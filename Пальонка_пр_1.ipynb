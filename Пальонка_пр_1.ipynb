{
  "nbformat": 4,
  "nbformat_minor": 0,
  "metadata": {
    "colab": {
      "provenance": []
    },
    "kernelspec": {
      "name": "python3",
      "display_name": "Python 3"
    },
    "language_info": {
      "name": "python"
    }
  },
  "cells": [
    {
      "cell_type": "code",
      "source": [
        "#Варіант 20\n",
        "\n",
        "#Завдання 1 Створіть одновимірний масив (вектор) з сумами кожного числа та його попереднього, починаючи з 1, та виведіть його значення.\n",
        "# Кількість елементів масиву\n",
        "n = 10\n",
        "\n",
        "# Ініціалізуємо порожній список\n",
        "vector = []\n",
        "\n",
        "# Початкове значення попереднього числа\n",
        "prev = 0\n",
        "\n",
        "# Заповнюємо масив\n",
        "for i in range(1, n + 1):\n",
        "    current = i + prev\n",
        "    vector.append(current)\n",
        "    prev = i  # оновлюємо попереднє число\n",
        "\n",
        "# Виводимо масив\n",
        "print(\"Масив квадратних коренів:\")\n",
        "print(vector)\n",
        "\n",
        ""
      ],
      "metadata": {
        "colab": {
          "base_uri": "https://localhost:8080/"
        },
        "id": "N51ZqShtKQKh",
        "outputId": "e208d10a-d00b-4e4e-d674-3aa3fb59c3f9"
      },
      "execution_count": 4,
      "outputs": [
        {
          "output_type": "stream",
          "name": "stdout",
          "text": [
            "Масив квадратних коренів:\n",
            "[1, 3, 5, 7, 9, 11, 13, 15, 17, 19]\n"
          ]
        }
      ]
    },
    {
      "cell_type": "code",
      "source": [
        "#Завдання 2\n",
        "#Створіть двовимірний масив (матрицю) розміром 3x3, заповніть його значеннями випадкових дійсних чисел від 1 до 10.\n",
        "import random  # підключаємо модуль для випадкових чисел\n",
        "\n",
        "# Розмір матриці\n",
        "rows = 3\n",
        "cols = 3\n",
        "\n",
        "# Створюємо матрицю 3x3 з випадковими числами від 1 до 10\n",
        "matrix = [[random.uniform(1, 10) for _ in range(cols)] for _ in range(rows)]\n",
        "\n",
        "# Виводимо матрицю\n",
        "for row in matrix:\n",
        "    print(row)\n"
      ],
      "metadata": {
        "colab": {
          "base_uri": "https://localhost:8080/"
        },
        "id": "Xya3Ju4DOTGn",
        "outputId": "f57bbac1-083b-4d2b-b774-4477d917d39e"
      },
      "execution_count": 5,
      "outputs": [
        {
          "output_type": "stream",
          "name": "stdout",
          "text": [
            "[9.69108334489896, 9.427890065775932, 1.9623425266101626]\n",
            "[3.147507396629239, 5.8735674393262665, 4.078426976293694]\n",
            "[9.180867576976844, 7.290176867900197, 7.840216436112741]\n"
          ]
        }
      ]
    },
    {
      "cell_type": "code",
      "source": [
        "#Завдання 3\n",
        "#Створіть масив розміром 3x3, заповніть його випадковими натуральними числами від 1 до 100 та виведіть мін значення\n",
        "import random\n",
        "\n",
        "# Розмір матриці\n",
        "rows = 3\n",
        "cols = 3\n",
        "\n",
        "# Створюємо матрицю 3x3 з випадковими числами від 1 до 100\n",
        "matrix = [[random.randint(1, 100) for _ in range(cols)] for _ in range(rows)]\n",
        "\n",
        "# Виводимо матрицю\n",
        "print(\"Матриця:\")\n",
        "for row in matrix:\n",
        "    print(row)\n",
        "\n",
        "# Знаходимо мінімальне значення\n",
        "min_value = min(min(row) for row in matrix)\n",
        "print(\"\\nМінімальне значення в матриці:\", min_value)\n"
      ],
      "metadata": {
        "colab": {
          "base_uri": "https://localhost:8080/"
        },
        "id": "i0pUMVVeOLwG",
        "outputId": "b8852d40-5587-496f-cfd4-de14de5b5d17"
      },
      "execution_count": 7,
      "outputs": [
        {
          "output_type": "stream",
          "name": "stdout",
          "text": [
            "Матриця:\n",
            "[68, 27, 15]\n",
            "[43, 41, 11]\n",
            "[73, 57, 22]\n",
            "\n",
            "Мінімальне значення в матриці: 11\n"
          ]
        }
      ]
    },
    {
      "cell_type": "code",
      "source": [
        "#Завдання 4\n",
        "#Створіть масив розміром 4x4, заповніть його випадковими дійсними числами в діапазоні від 0 до 1 та знайдіть кількість елементів, що більше 0.5\n",
        "import random\n",
        "\n",
        "# Розмір матриці\n",
        "rows = 4\n",
        "cols = 4\n",
        "\n",
        "# Створюємо матрицю 4x4 з випадковими числами від 0 до 1\n",
        "matrix = [[random.random() for _ in range(cols)] for _ in range(rows)]\n",
        "\n",
        "# Виводимо матрицю\n",
        "print(\"Матриця:\")\n",
        "for row in matrix:\n",
        "    print(row)\n",
        "\n",
        "# Рахуємо кількість елементів > 0.5\n",
        "count = sum(1 for row in matrix for elem in row if elem > 0.5)\n",
        "\n",
        "print(\"\\nКількість елементів, що більше 0.5:\", count)\n"
      ],
      "metadata": {
        "colab": {
          "base_uri": "https://localhost:8080/"
        },
        "id": "DKyUSlteOvUS",
        "outputId": "a899334b-cb92-4108-af9a-9daa636503bc"
      },
      "execution_count": 9,
      "outputs": [
        {
          "output_type": "stream",
          "name": "stdout",
          "text": [
            "Матриця:\n",
            "[0.6493051220467821, 0.8022176077245232, 0.21115086644784287, 0.2058177881429054]\n",
            "[0.7181427007347184, 0.4582734158601445, 0.0954861169303427, 0.2918233847450936]\n",
            "[0.5286821586144824, 0.44609238093966486, 0.7189678844763647, 0.9370610437822553]\n",
            "[0.7084505607308152, 0.5147836664356203, 0.6276679886196229, 0.5697262223939962]\n",
            "\n",
            "Кількість елементів, що більше 0.5: 10\n"
          ]
        }
      ]
    },
    {
      "cell_type": "code",
      "source": [
        "#Завдання 5\n",
        "#Створіть два одновимірних масиви розміром 4, заповніть їх випадковими цілими числами від -10 до 10 та виконайте на них поелементні операції додавання, віднімання та множення.\n",
        "import random\n",
        "\n",
        "# Розмір масивів\n",
        "n = 4\n",
        "\n",
        "# Створюємо два масиви з випадковими цілими числами від -10 до 10\n",
        "array1 = [random.randint(-10, 10) for _ in range(n)]\n",
        "array2 = [random.randint(-10, 10) for _ in range(n)]\n",
        "\n",
        "# Виводимо масиви\n",
        "print(\"Масив 1:\", array1)\n",
        "print(\"Масив 2:\", array2)\n",
        "\n",
        "# Поелементне додавання\n",
        "addition = [a + b for a, b in zip(array1, array2)]\n",
        "print(\"Додавання:\", addition)\n",
        "\n",
        "# Поелементне віднімання\n",
        "subtraction = [a - b for a, b in zip(array1, array2)]\n",
        "print(\"Віднімання:\", subtraction)\n",
        "\n",
        "# Поелементне множення\n",
        "multiplication = [a * b for a, b in zip(array1, array2)]\n",
        "print(\"Множення:\", multiplication)\n"
      ],
      "metadata": {
        "colab": {
          "base_uri": "https://localhost:8080/"
        },
        "id": "0_d7ntFhPGbO",
        "outputId": "837108cd-2e83-4433-87bb-b2e5221e177a"
      },
      "execution_count": 11,
      "outputs": [
        {
          "output_type": "stream",
          "name": "stdout",
          "text": [
            "Масив 1: [6, 4, 6, -9]\n",
            "Масив 2: [-8, -9, -7, 10]\n",
            "Додавання: [-2, -5, -1, 1]\n",
            "Віднімання: [14, 13, 13, -19]\n",
            "Множення: [-48, -36, -42, -90]\n"
          ]
        }
      ]
    },
    {
      "cell_type": "code",
      "source": [
        "#Завдання 6\n",
        "#Створіть дві матриці 3x3, заповніть їх довільними цілими числами від 1 до 20 та знайдіть їх добуток\n",
        "import random\n",
        "\n",
        "# Розмір матриць\n",
        "n = 3\n",
        "\n",
        "# Створюємо дві матриці 3x3 з випадковими числами від 1 до 20\n",
        "matrix1 = [[random.randint(1, 20) for _ in range(n)] for _ in range(n)]\n",
        "matrix2 = [[random.randint(1, 20) for _ in range(n)] for _ in range(n)]\n",
        "\n",
        "# Виводимо матриці\n",
        "print(\"Матриця 1:\")\n",
        "for row in matrix1:\n",
        "    print(row)\n",
        "\n",
        "print(\"\\nМатриця 2:\")\n",
        "for row in matrix2:\n",
        "    print(row)\n",
        "\n",
        "# Ініціалізуємо матрицю для добутку\n",
        "product = [[0 for _ in range(n)] for _ in range(n)]\n",
        "\n",
        "# Матричне множення\n",
        "for i in range(n):\n",
        "    for j in range(n):\n",
        "        for k in range(n):\n",
        "            product[i][j] += matrix1[i][k] * matrix2[k][j]\n",
        "\n",
        "# Виводимо результат\n",
        "print(\"\\nДобуток матриць:\")\n",
        "for row in product:\n",
        "    print(row)\n",
        "\n"
      ],
      "metadata": {
        "colab": {
          "base_uri": "https://localhost:8080/"
        },
        "id": "-thwKFrmPTZ5",
        "outputId": "5dc5f528-6df4-45f9-cfed-09f6191e238c"
      },
      "execution_count": 12,
      "outputs": [
        {
          "output_type": "stream",
          "name": "stdout",
          "text": [
            "Матриця 1:\n",
            "[11, 20, 5]\n",
            "[18, 2, 12]\n",
            "[16, 14, 14]\n",
            "\n",
            "Матриця 2:\n",
            "[14, 2, 11]\n",
            "[6, 2, 16]\n",
            "[9, 7, 18]\n",
            "\n",
            "Добуток матриць:\n",
            "[319, 97, 531]\n",
            "[372, 124, 446]\n",
            "[434, 158, 652]\n"
          ]
        }
      ]
    },
    {
      "cell_type": "code",
      "source": [
        "#Завдання7\n",
        "#Створіть дві матриці розміром 2x3 та 3x3, заповніть їх випадковими цілими числами в діапазоні від 1 до 4 та перемножте їх між собою.\n",
        "import random\n",
        "\n",
        "# Розміри матриць\n",
        "rows1, cols1 = 2, 3\n",
        "rows2, cols2 = 3, 3\n",
        "\n",
        "# Створюємо матриці з випадковими цілими числами від 1 до 4\n",
        "matrix1 = [[random.randint(1, 4) for _ in range(cols1)] for _ in range(rows1)]\n",
        "matrix2 = [[random.randint(1, 4) for _ in range(cols2)] for _ in range(rows2)]\n",
        "\n",
        "# Виводимо матриці\n",
        "print(\"Матриця 1:\")\n",
        "for row in matrix1:\n",
        "    print(row)\n",
        "\n",
        "print(\"\\nМатриця 2:\")\n",
        "for row in matrix2:\n",
        "    print(row)\n",
        "\n",
        "# Ініціалізуємо матрицю для добутку (2x3 * 3x3 = 2x3)\n",
        "product = [[0 for _ in range(cols2)] for _ in range(rows1)]\n",
        "\n",
        "# Матричне множення\n",
        "for i in range(rows1):\n",
        "    for j in range(cols2):\n",
        "        for k in range(cols1):  # або rows2\n",
        "            product[i][j] += matrix1[i][k] * matrix2[k][j]\n",
        "\n",
        "# Виводимо результат\n",
        "print(\"\\nДобуток матриць:\")\n",
        "for row in product:\n",
        "    print(row)\n"
      ],
      "metadata": {
        "colab": {
          "base_uri": "https://localhost:8080/"
        },
        "id": "P4hlBsCyP3wf",
        "outputId": "3bfa60b0-ea22-4f24-990d-580ab013a7c3"
      },
      "execution_count": 13,
      "outputs": [
        {
          "output_type": "stream",
          "name": "stdout",
          "text": [
            "Матриця 1:\n",
            "[3, 2, 3]\n",
            "[3, 1, 3]\n",
            "\n",
            "Матриця 2:\n",
            "[4, 2, 3]\n",
            "[2, 3, 2]\n",
            "[4, 3, 2]\n",
            "\n",
            "Добуток матриць:\n",
            "[28, 21, 19]\n",
            "[26, 18, 17]\n"
          ]
        }
      ]
    },
    {
      "cell_type": "code",
      "source": [
        "#Завдання 8\n",
        "#Створіть матрицю розміром 3x3, заповніть її випадковими цілими числами в діапазоні від 1 до 7 та знайдіть її обернену матрицю\n",
        "import numpy as np\n",
        "\n",
        "# Створюємо матрицю 3x3 з випадковими цілими числами від 1 до 7\n",
        "matrix = np.random.randint(1, 8, size=(3, 3))\n",
        "\n",
        "print(\"Матриця 3x3:\")\n",
        "print(matrix)\n",
        "\n",
        "# Знаходимо обернену матрицю\n",
        "try:\n",
        "    inverse_matrix = np.linalg.inv(matrix)\n",
        "    print(\"\\nОбернена матриця:\")\n",
        "    print(np.round(inverse_matrix, 2))  # округлюємо до 2 знаків після коми\n",
        "except np.linalg.LinAlgError:\n",
        "    print(\"\\nМатриця вироджена, оберненої матриці не існує.\")\n"
      ],
      "metadata": {
        "colab": {
          "base_uri": "https://localhost:8080/"
        },
        "id": "_JFwws4XQRE3",
        "outputId": "c6e95f11-328d-41fb-dd6e-7b8dc83a51fa"
      },
      "execution_count": 14,
      "outputs": [
        {
          "output_type": "stream",
          "name": "stdout",
          "text": [
            "Матриця 3x3:\n",
            "[[6 1 6]\n",
            " [7 7 1]\n",
            " [4 1 4]]\n",
            "\n",
            "Обернена матриця:\n",
            "[[ 2.25  0.17 -3.42]\n",
            " [-2.    0.    3.  ]\n",
            " [-1.75 -0.17  2.92]]\n"
          ]
        }
      ]
    },
    {
      "cell_type": "code",
      "source": [
        "#Завдання 9\n",
        "#Створіть матрицю розміром 4x4, заповніть її випадковими цілими числами в діапазоні від 0 до 1 та транспонуйте її.\n",
        "import random\n",
        "\n",
        "# Розмір матриці\n",
        "rows = 4\n",
        "cols = 4\n",
        "\n",
        "# Створюємо матрицю 4x4 з випадковими числами 0 або 1\n",
        "matrix = [[random.randint(0, 1) for _ in range(cols)] for _ in range(rows)]\n",
        "\n",
        "# Виводимо початкову матрицю\n",
        "print(\"Початкова матриця:\")\n",
        "for row in matrix:\n",
        "    print(row)\n",
        "\n",
        "# Транспонування матриці\n",
        "transposed = [[matrix[j][i] for j in range(rows)] for i in range(cols)]\n",
        "\n",
        "# Виводимо транспоновану матрицю\n",
        "print(\"\\nТранспонована матриця:\")\n",
        "for row in transposed:\n",
        "    print(row)\n"
      ],
      "metadata": {
        "colab": {
          "base_uri": "https://localhost:8080/"
        },
        "id": "qRgXuCx5Qh5e",
        "outputId": "770b4f84-97df-4b33-f9b5-c8d7b4ec922b"
      },
      "execution_count": 15,
      "outputs": [
        {
          "output_type": "stream",
          "name": "stdout",
          "text": [
            "Початкова матриця:\n",
            "[1, 1, 0, 0]\n",
            "[0, 0, 1, 1]\n",
            "[0, 0, 0, 0]\n",
            "[1, 0, 0, 1]\n",
            "\n",
            "Транспонована матриця:\n",
            "[1, 0, 0, 1]\n",
            "[1, 0, 0, 0]\n",
            "[0, 1, 0, 0]\n",
            "[0, 1, 0, 1]\n"
          ]
        }
      ]
    },
    {
      "cell_type": "code",
      "source": [
        "#Завдання 10\n",
        "#Створіть матрицю розміром 3x4 та вектор розміром 4x1, заповніть матрицю випадковими дійсними числами від 0 до 1, а вектор - випадковими дійсними числами\n",
        "#від 0 до 1, і знайдіть добуток матриці на вектор.\n",
        "\n",
        "import numpy as np\n",
        "\n",
        "# Створюємо матрицю 3x4 з випадковими дійсними числами від 0 до 1\n",
        "matrix = np.random.rand(3, 4)\n",
        "\n",
        "# Створюємо вектор 4x1 з випадковими дійсними числами від 0 до 1\n",
        "vector = np.random.rand(4, 1)\n",
        "\n",
        "print(\"Матриця 3x4:\")\n",
        "print(np.round(matrix, 2))\n",
        "\n",
        "print(\"\\nВектор 4x1:\")\n",
        "print(np.round(vector, 2))\n",
        "\n",
        "# Добуток матриці на вектор\n",
        "product = np.dot(matrix, vector)\n",
        "\n",
        "print(\"\\nДобуток матриці на вектор:\")\n",
        "print(np.round(product, 2))\n",
        "\n"
      ],
      "metadata": {
        "colab": {
          "base_uri": "https://localhost:8080/"
        },
        "id": "RNY8_YXaQwR6",
        "outputId": "304f5b75-2faf-4fd4-cb4a-c57ae96cadb9"
      },
      "execution_count": 16,
      "outputs": [
        {
          "output_type": "stream",
          "name": "stdout",
          "text": [
            "Матриця 3x4:\n",
            "[[0.93 0.47 0.01 0.29]\n",
            " [0.27 0.37 0.1  0.75]\n",
            " [0.21 0.39 0.08 0.8 ]]\n",
            "\n",
            "Вектор 4x1:\n",
            "[[0.91]\n",
            " [0.98]\n",
            " [0.84]\n",
            " [0.98]]\n",
            "\n",
            "Добуток матриці на вектор:\n",
            "[[1.58]\n",
            " [1.43]\n",
            " [1.43]]\n"
          ]
        }
      ]
    },
    {
      "cell_type": "code",
      "source": [
        "#Завдання 11\n",
        "#Створіть матрицю розміром 2x3 та вектор розміром 3x1, заповніть матрицю випадковими дійсними числами від 0 до 1, а вектор - випадковими дійсними числами\n",
        "#від 0 до 1, і знайдіть добуток матриці на вектор.\n",
        "\n",
        "import numpy as np\n",
        "\n",
        "# Створюємо матрицю 2x3 з випадковими дійсними числами від 0 до 1\n",
        "matrix = np.random.rand(2, 3)\n",
        "\n",
        "# Створюємо вектор 3x1 з випадковими дійсними числами від 0 до 1\n",
        "vector = np.random.rand(3, 1)\n",
        "\n",
        "print(\"Матриця 2x3:\")\n",
        "print(np.round(matrix, 2))\n",
        "\n",
        "print(\"\\nВектор 3x1:\")\n",
        "print(np.round(vector, 2))\n",
        "\n",
        "# Добуток матриці на вектор\n",
        "product = np.dot(matrix, vector)\n",
        "\n",
        "print(\"\\nДобуток матриці на вектор:\")\n",
        "print(np.round(product, 2))\n"
      ],
      "metadata": {
        "colab": {
          "base_uri": "https://localhost:8080/"
        },
        "id": "l9pHRbX-RBSW",
        "outputId": "b3693f1f-4dca-43f2-9450-2c12c2065bb3"
      },
      "execution_count": 17,
      "outputs": [
        {
          "output_type": "stream",
          "name": "stdout",
          "text": [
            "Матриця 2x3:\n",
            "[[0.36 0.23 0.35]\n",
            " [0.14 0.3  0.63]]\n",
            "\n",
            "Вектор 3x1:\n",
            "[[0.21]\n",
            " [0.18]\n",
            " [0.44]]\n",
            "\n",
            "Добуток матриці на вектор:\n",
            "[[0.27]\n",
            " [0.37]]\n"
          ]
        }
      ]
    },
    {
      "cell_type": "code",
      "source": [
        "#Завдання 12\n",
        "#Створіть дві матриці розміром 3x3, заповніть їх випадковими цілими числами в\n",
        "#діапазоні від 1 до 5 та знайдіть добуток елементів діагоналі другої матриці.\n",
        "\n",
        "import random\n",
        "\n",
        "# Розмір матриць\n",
        "n = 3\n",
        "\n",
        "# Створюємо дві матриці 3x3 з випадковими цілими числами від 1 до 5\n",
        "matrix1 = [[random.randint(1, 5) for _ in range(n)] for _ in range(n)]\n",
        "matrix2 = [[random.randint(1, 5) for _ in range(n)] for _ in range(n)]\n",
        "\n",
        "# Виводимо матриці\n",
        "print(\"Матриця 1:\")\n",
        "for row in matrix1:\n",
        "    print(row)\n",
        "\n",
        "print(\"\\nМатриця 2:\")\n",
        "for row in matrix2:\n",
        "    print(row)\n",
        "\n",
        "# Обчислюємо добуток елементів головної діагоналі другої матриці\n",
        "diagonal_product = 1\n",
        "for i in range(n):\n",
        "    diagonal_product *= matrix2[i][i]\n",
        "\n",
        "print(\"\\nДобуток елементів діагоналі другої матриці:\", diagonal_product)\n"
      ],
      "metadata": {
        "colab": {
          "base_uri": "https://localhost:8080/"
        },
        "id": "-1WGJBA0ROXQ",
        "outputId": "a649a806-3934-486b-fa4e-29cf238d4cad"
      },
      "execution_count": 18,
      "outputs": [
        {
          "output_type": "stream",
          "name": "stdout",
          "text": [
            "Матриця 1:\n",
            "[5, 3, 4]\n",
            "[4, 4, 2]\n",
            "[5, 4, 3]\n",
            "\n",
            "Матриця 2:\n",
            "[1, 5, 2]\n",
            "[3, 5, 3]\n",
            "[5, 2, 5]\n",
            "\n",
            "Добуток елементів діагоналі другої матриці: 25\n"
          ]
        }
      ]
    },
    {
      "cell_type": "code",
      "source": [
        "#Завдання 13\n",
        "#Створіть дві матриці розміром 4x4, заповніть їх випадковими цілими числами в\n",
        "#діапазоні від 1 до 5 та знайдіть різницю їх елементів.\n",
        "import random\n",
        "\n",
        "# Розмір матриць\n",
        "n = 4\n",
        "\n",
        "# Створюємо дві матриці 4x4 з випадковими цілими числами від 1 до 5\n",
        "matrix1 = [[random.randint(1, 5) for _ in range(n)] for _ in range(n)]\n",
        "matrix2 = [[random.randint(1, 5) for _ in range(n)] for _ in range(n)]\n",
        "\n",
        "# Виводимо матриці\n",
        "print(\"Матриця 1:\")\n",
        "for row in matrix1:\n",
        "    print(row)\n",
        "\n",
        "print(\"\\nМатриця 2:\")\n",
        "for row in matrix2:\n",
        "    print(row)\n",
        "\n",
        "# Поелементна різниця матриць\n",
        "difference = [[matrix1[i][j] - matrix2[i][j] for j in range(n)] for i in range(n)]\n",
        "\n",
        "# Виводимо результат\n",
        "print(\"\\nРізниця матриць (Matrix1 - Matrix2):\")\n",
        "for row in difference:\n",
        "    print(row)\n"
      ],
      "metadata": {
        "colab": {
          "base_uri": "https://localhost:8080/"
        },
        "id": "26NYf9rWRaDA",
        "outputId": "a071c87a-ac6e-47cf-a433-080be687b259"
      },
      "execution_count": 20,
      "outputs": [
        {
          "output_type": "stream",
          "name": "stdout",
          "text": [
            "Матриця 1:\n",
            "[1, 3, 2, 4]\n",
            "[2, 3, 5, 1]\n",
            "[1, 1, 5, 2]\n",
            "[4, 4, 5, 3]\n",
            "\n",
            "Матриця 2:\n",
            "[4, 1, 1, 5]\n",
            "[3, 4, 1, 4]\n",
            "[1, 2, 5, 2]\n",
            "[5, 2, 3, 1]\n",
            "\n",
            "Різниця матриць (Matrix1 - Matrix2):\n",
            "[-3, 2, 1, -1]\n",
            "[-1, -1, 4, -3]\n",
            "[0, -1, 0, 0]\n",
            "[-1, 2, 2, 2]\n"
          ]
        }
      ]
    },
    {
      "cell_type": "code",
      "source": [
        "#Завдання 14\n",
        "#Створіть матрицю розміром 3x3, заповніть її випадковими цілими числами в діапазоні\n",
        "#від 1 до 10 та знайдіть найменший елемент матриці.\n",
        "import random\n",
        "\n",
        "# Розмір матриці\n",
        "n = 3\n",
        "\n",
        "# Створюємо матрицю 3x3 з випадковими цілими числами від 1 до 10\n",
        "matrix = [[random.randint(1, 10) for _ in range(n)] for _ in range(n)]\n",
        "\n",
        "# Виводимо матрицю\n",
        "print(\"Матриця 3x3:\")\n",
        "for row in matrix:\n",
        "    print(row)\n",
        "\n",
        "# Знаходимо найменший елемент матриці\n",
        "min_value = min(min(row) for row in matrix)\n",
        "\n",
        "print(\"\\nНайменший елемент матриці:\", min_value)\n"
      ],
      "metadata": {
        "colab": {
          "base_uri": "https://localhost:8080/"
        },
        "id": "9ZOFcPbbRcUg",
        "outputId": "ee02d61d-933b-43db-cf9f-9c20b9667b96"
      },
      "execution_count": 21,
      "outputs": [
        {
          "output_type": "stream",
          "name": "stdout",
          "text": [
            "Матриця 3x3:\n",
            "[2, 4, 7]\n",
            "[9, 4, 8]\n",
            "[2, 10, 9]\n",
            "\n",
            "Найменший елемент матриці: 2\n"
          ]
        }
      ]
    },
    {
      "cell_type": "code",
      "source": [
        "#Завдання 15\n",
        "#Створіть матрицю розміром 3x3, заповніть її випадковими дійсними числами в діапазоні від -2 до 2 та знайдіть вектор-стовпчик, що містить кількість ненульових\n",
        "#елементів в кожному рядку матриці\n",
        "import random\n",
        "\n",
        "# Розмір матриці\n",
        "rows = 3\n",
        "cols = 3\n",
        "\n",
        "# Створюємо матрицю 3x3 з випадковими дійсними числами від -2 до 2\n",
        "matrix = [[random.uniform(-2, 2) for _ in range(cols)] for _ in range(rows)]\n",
        "\n",
        "# Виводимо матрицю\n",
        "print(\"Матриця 3x3:\")\n",
        "for row in matrix:\n",
        "    print([round(elem, 2) for elem in row])\n",
        "\n",
        "# Створюємо вектор-стовпчик з кількістю ненульових елементів у кожному рядку\n",
        "vector_column = [[sum(1 for elem in row if elem != 0)] for row in matrix]\n",
        "\n",
        "print(\"\\nВектор-стовпчик (кількість ненульових елементів у кожному рядку):\")\n",
        "for val in vector_column:\n",
        "    print(val)\n"
      ],
      "metadata": {
        "colab": {
          "base_uri": "https://localhost:8080/"
        },
        "id": "yhi630o-RulY",
        "outputId": "8c8f8056-7218-4d32-dc98-e9e92e309027"
      },
      "execution_count": 32,
      "outputs": [
        {
          "output_type": "stream",
          "name": "stdout",
          "text": [
            "Матриця 3x3:\n",
            "[0.9, 0.37, 1.7]\n",
            "[0.73, -1.76, 0.04]\n",
            "[0.13, -1.55, 1.84]\n",
            "\n",
            "Вектор-стовпчик (кількість ненульових елементів у кожному рядку):\n",
            "[3]\n",
            "[3]\n",
            "[3]\n"
          ]
        }
      ]
    },
    {
      "cell_type": "code",
      "source": [
        "#Висновок\n",
        "#В цій лабораторній роботі я пригадала основні елементи лінійної алгебри, та написання програм для розв'язування цих самих лінійних задач\n",
        "\n",
        "\n",
        ""
      ],
      "metadata": {
        "id": "5yppPy9hSDME"
      },
      "execution_count": 33,
      "outputs": []
    }
  ]
}