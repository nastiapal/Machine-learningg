{
  "nbformat": 4,
  "nbformat_minor": 0,
  "metadata": {
    "colab": {
      "provenance": []
    },
    "kernelspec": {
      "name": "python3",
      "display_name": "Python 3"
    },
    "language_info": {
      "name": "python"
    }
  },
  "cells": [
    {
      "cell_type": "code",
      "execution_count": 2,
      "metadata": {
        "id": "hQmQUo5r-wVB"
      },
      "outputs": [],
      "source": [
        "#Варіант 20\n",
        "#Завдання 1.\n",
        "#Зчитати датасет ВВП (млн. дол. США) за країнами з Вікіпедії за посиланням\n",
        "#https://en.wikipedia.org/wiki/List_of_countries_by_GDP_(nominal)\n"
      ]
    },
    {
      "cell_type": "code",
      "source": [
        "import numpy as np\n",
        "import pandas as pd\n",
        "import requests\n",
        "\n"
      ],
      "metadata": {
        "id": "Hk3hsTzf_13z"
      },
      "execution_count": 22,
      "outputs": []
    },
    {
      "cell_type": "code",
      "source": [
        "#Провести попередній аналіз даних, а саме:\n",
        "#1. Вивести перших 5 рядків.\n",
        "url = \"https://en.wikipedia.org/wiki/List_of_countries_by_GDP_(nominal)\"\n",
        "html = requests.get(url, headers={\"User-Agent\": \"Mozilla/5.0\"}).text\n",
        "\n",
        "tables = pd.read_html(html) # зчитати всі таблиці\n",
        "df = tables[2] !\n",
        "df.head()"
      ],
      "metadata": {
        "colab": {
          "base_uri": "https://localhost:8080/",
          "height": 243
        },
        "id": "S621wJP2__xF",
        "outputId": "cd9507f0-c452-40d3-f330-ed831922c3e8"
      },
      "execution_count": 23,
      "outputs": [
        {
          "output_type": "stream",
          "name": "stderr",
          "text": [
            "/tmp/ipython-input-1463505257.py:4: FutureWarning: Passing literal html to 'read_html' is deprecated and will be removed in a future version. To read from a literal string, wrap it in a 'StringIO' object.\n",
            "  tables = pd.read_html(html) # зчитати всі таблиці\n"
          ]
        },
        {
          "output_type": "execute_result",
          "data": {
            "text/plain": [
              "  Country/Territory IMF (2025)[1][6] World Bank (2022–24)[7]  \\\n",
              "0             World        113795678               111326370   \n",
              "1     United States         30507217                29184890   \n",
              "2        China[n 1]         19231705                18743803   \n",
              "3           Germany          4744804                 4659929   \n",
              "4             India          4187017                 3912686   \n",
              "\n",
              "  United Nations (2023)[8]  \n",
              "0                100834796  \n",
              "1                 27720700  \n",
              "2                 17794782  \n",
              "3                  4525704  \n",
              "4                  3575778  "
            ],
            "text/html": [
              "\n",
              "  <div id=\"df-1760c78b-700c-46dc-97b2-97b233020f33\" class=\"colab-df-container\">\n",
              "    <div>\n",
              "<style scoped>\n",
              "    .dataframe tbody tr th:only-of-type {\n",
              "        vertical-align: middle;\n",
              "    }\n",
              "\n",
              "    .dataframe tbody tr th {\n",
              "        vertical-align: top;\n",
              "    }\n",
              "\n",
              "    .dataframe thead th {\n",
              "        text-align: right;\n",
              "    }\n",
              "</style>\n",
              "<table border=\"1\" class=\"dataframe\">\n",
              "  <thead>\n",
              "    <tr style=\"text-align: right;\">\n",
              "      <th></th>\n",
              "      <th>Country/Territory</th>\n",
              "      <th>IMF (2025)[1][6]</th>\n",
              "      <th>World Bank (2022–24)[7]</th>\n",
              "      <th>United Nations (2023)[8]</th>\n",
              "    </tr>\n",
              "  </thead>\n",
              "  <tbody>\n",
              "    <tr>\n",
              "      <th>0</th>\n",
              "      <td>World</td>\n",
              "      <td>113795678</td>\n",
              "      <td>111326370</td>\n",
              "      <td>100834796</td>\n",
              "    </tr>\n",
              "    <tr>\n",
              "      <th>1</th>\n",
              "      <td>United States</td>\n",
              "      <td>30507217</td>\n",
              "      <td>29184890</td>\n",
              "      <td>27720700</td>\n",
              "    </tr>\n",
              "    <tr>\n",
              "      <th>2</th>\n",
              "      <td>China[n 1]</td>\n",
              "      <td>19231705</td>\n",
              "      <td>18743803</td>\n",
              "      <td>17794782</td>\n",
              "    </tr>\n",
              "    <tr>\n",
              "      <th>3</th>\n",
              "      <td>Germany</td>\n",
              "      <td>4744804</td>\n",
              "      <td>4659929</td>\n",
              "      <td>4525704</td>\n",
              "    </tr>\n",
              "    <tr>\n",
              "      <th>4</th>\n",
              "      <td>India</td>\n",
              "      <td>4187017</td>\n",
              "      <td>3912686</td>\n",
              "      <td>3575778</td>\n",
              "    </tr>\n",
              "  </tbody>\n",
              "</table>\n",
              "</div>\n",
              "    <div class=\"colab-df-buttons\">\n",
              "\n",
              "  <div class=\"colab-df-container\">\n",
              "    <button class=\"colab-df-convert\" onclick=\"convertToInteractive('df-1760c78b-700c-46dc-97b2-97b233020f33')\"\n",
              "            title=\"Convert this dataframe to an interactive table.\"\n",
              "            style=\"display:none;\">\n",
              "\n",
              "  <svg xmlns=\"http://www.w3.org/2000/svg\" height=\"24px\" viewBox=\"0 -960 960 960\">\n",
              "    <path d=\"M120-120v-720h720v720H120Zm60-500h600v-160H180v160Zm220 220h160v-160H400v160Zm0 220h160v-160H400v160ZM180-400h160v-160H180v160Zm440 0h160v-160H620v160ZM180-180h160v-160H180v160Zm440 0h160v-160H620v160Z\"/>\n",
              "  </svg>\n",
              "    </button>\n",
              "\n",
              "  <style>\n",
              "    .colab-df-container {\n",
              "      display:flex;\n",
              "      gap: 12px;\n",
              "    }\n",
              "\n",
              "    .colab-df-convert {\n",
              "      background-color: #E8F0FE;\n",
              "      border: none;\n",
              "      border-radius: 50%;\n",
              "      cursor: pointer;\n",
              "      display: none;\n",
              "      fill: #1967D2;\n",
              "      height: 32px;\n",
              "      padding: 0 0 0 0;\n",
              "      width: 32px;\n",
              "    }\n",
              "\n",
              "    .colab-df-convert:hover {\n",
              "      background-color: #E2EBFA;\n",
              "      box-shadow: 0px 1px 2px rgba(60, 64, 67, 0.3), 0px 1px 3px 1px rgba(60, 64, 67, 0.15);\n",
              "      fill: #174EA6;\n",
              "    }\n",
              "\n",
              "    .colab-df-buttons div {\n",
              "      margin-bottom: 4px;\n",
              "    }\n",
              "\n",
              "    [theme=dark] .colab-df-convert {\n",
              "      background-color: #3B4455;\n",
              "      fill: #D2E3FC;\n",
              "    }\n",
              "\n",
              "    [theme=dark] .colab-df-convert:hover {\n",
              "      background-color: #434B5C;\n",
              "      box-shadow: 0px 1px 3px 1px rgba(0, 0, 0, 0.15);\n",
              "      filter: drop-shadow(0px 1px 2px rgba(0, 0, 0, 0.3));\n",
              "      fill: #FFFFFF;\n",
              "    }\n",
              "  </style>\n",
              "\n",
              "    <script>\n",
              "      const buttonEl =\n",
              "        document.querySelector('#df-1760c78b-700c-46dc-97b2-97b233020f33 button.colab-df-convert');\n",
              "      buttonEl.style.display =\n",
              "        google.colab.kernel.accessAllowed ? 'block' : 'none';\n",
              "\n",
              "      async function convertToInteractive(key) {\n",
              "        const element = document.querySelector('#df-1760c78b-700c-46dc-97b2-97b233020f33');\n",
              "        const dataTable =\n",
              "          await google.colab.kernel.invokeFunction('convertToInteractive',\n",
              "                                                    [key], {});\n",
              "        if (!dataTable) return;\n",
              "\n",
              "        const docLinkHtml = 'Like what you see? Visit the ' +\n",
              "          '<a target=\"_blank\" href=https://colab.research.google.com/notebooks/data_table.ipynb>data table notebook</a>'\n",
              "          + ' to learn more about interactive tables.';\n",
              "        element.innerHTML = '';\n",
              "        dataTable['output_type'] = 'display_data';\n",
              "        await google.colab.output.renderOutput(dataTable, element);\n",
              "        const docLink = document.createElement('div');\n",
              "        docLink.innerHTML = docLinkHtml;\n",
              "        element.appendChild(docLink);\n",
              "      }\n",
              "    </script>\n",
              "  </div>\n",
              "\n",
              "\n",
              "    <div id=\"df-4abaaaef-6a4d-460b-8ff2-55f15b63309a\">\n",
              "      <button class=\"colab-df-quickchart\" onclick=\"quickchart('df-4abaaaef-6a4d-460b-8ff2-55f15b63309a')\"\n",
              "                title=\"Suggest charts\"\n",
              "                style=\"display:none;\">\n",
              "\n",
              "<svg xmlns=\"http://www.w3.org/2000/svg\" height=\"24px\"viewBox=\"0 0 24 24\"\n",
              "     width=\"24px\">\n",
              "    <g>\n",
              "        <path d=\"M19 3H5c-1.1 0-2 .9-2 2v14c0 1.1.9 2 2 2h14c1.1 0 2-.9 2-2V5c0-1.1-.9-2-2-2zM9 17H7v-7h2v7zm4 0h-2V7h2v10zm4 0h-2v-4h2v4z\"/>\n",
              "    </g>\n",
              "</svg>\n",
              "      </button>\n",
              "\n",
              "<style>\n",
              "  .colab-df-quickchart {\n",
              "      --bg-color: #E8F0FE;\n",
              "      --fill-color: #1967D2;\n",
              "      --hover-bg-color: #E2EBFA;\n",
              "      --hover-fill-color: #174EA6;\n",
              "      --disabled-fill-color: #AAA;\n",
              "      --disabled-bg-color: #DDD;\n",
              "  }\n",
              "\n",
              "  [theme=dark] .colab-df-quickchart {\n",
              "      --bg-color: #3B4455;\n",
              "      --fill-color: #D2E3FC;\n",
              "      --hover-bg-color: #434B5C;\n",
              "      --hover-fill-color: #FFFFFF;\n",
              "      --disabled-bg-color: #3B4455;\n",
              "      --disabled-fill-color: #666;\n",
              "  }\n",
              "\n",
              "  .colab-df-quickchart {\n",
              "    background-color: var(--bg-color);\n",
              "    border: none;\n",
              "    border-radius: 50%;\n",
              "    cursor: pointer;\n",
              "    display: none;\n",
              "    fill: var(--fill-color);\n",
              "    height: 32px;\n",
              "    padding: 0;\n",
              "    width: 32px;\n",
              "  }\n",
              "\n",
              "  .colab-df-quickchart:hover {\n",
              "    background-color: var(--hover-bg-color);\n",
              "    box-shadow: 0 1px 2px rgba(60, 64, 67, 0.3), 0 1px 3px 1px rgba(60, 64, 67, 0.15);\n",
              "    fill: var(--button-hover-fill-color);\n",
              "  }\n",
              "\n",
              "  .colab-df-quickchart-complete:disabled,\n",
              "  .colab-df-quickchart-complete:disabled:hover {\n",
              "    background-color: var(--disabled-bg-color);\n",
              "    fill: var(--disabled-fill-color);\n",
              "    box-shadow: none;\n",
              "  }\n",
              "\n",
              "  .colab-df-spinner {\n",
              "    border: 2px solid var(--fill-color);\n",
              "    border-color: transparent;\n",
              "    border-bottom-color: var(--fill-color);\n",
              "    animation:\n",
              "      spin 1s steps(1) infinite;\n",
              "  }\n",
              "\n",
              "  @keyframes spin {\n",
              "    0% {\n",
              "      border-color: transparent;\n",
              "      border-bottom-color: var(--fill-color);\n",
              "      border-left-color: var(--fill-color);\n",
              "    }\n",
              "    20% {\n",
              "      border-color: transparent;\n",
              "      border-left-color: var(--fill-color);\n",
              "      border-top-color: var(--fill-color);\n",
              "    }\n",
              "    30% {\n",
              "      border-color: transparent;\n",
              "      border-left-color: var(--fill-color);\n",
              "      border-top-color: var(--fill-color);\n",
              "      border-right-color: var(--fill-color);\n",
              "    }\n",
              "    40% {\n",
              "      border-color: transparent;\n",
              "      border-right-color: var(--fill-color);\n",
              "      border-top-color: var(--fill-color);\n",
              "    }\n",
              "    60% {\n",
              "      border-color: transparent;\n",
              "      border-right-color: var(--fill-color);\n",
              "    }\n",
              "    80% {\n",
              "      border-color: transparent;\n",
              "      border-right-color: var(--fill-color);\n",
              "      border-bottom-color: var(--fill-color);\n",
              "    }\n",
              "    90% {\n",
              "      border-color: transparent;\n",
              "      border-bottom-color: var(--fill-color);\n",
              "    }\n",
              "  }\n",
              "</style>\n",
              "\n",
              "      <script>\n",
              "        async function quickchart(key) {\n",
              "          const quickchartButtonEl =\n",
              "            document.querySelector('#' + key + ' button');\n",
              "          quickchartButtonEl.disabled = true;  // To prevent multiple clicks.\n",
              "          quickchartButtonEl.classList.add('colab-df-spinner');\n",
              "          try {\n",
              "            const charts = await google.colab.kernel.invokeFunction(\n",
              "                'suggestCharts', [key], {});\n",
              "          } catch (error) {\n",
              "            console.error('Error during call to suggestCharts:', error);\n",
              "          }\n",
              "          quickchartButtonEl.classList.remove('colab-df-spinner');\n",
              "          quickchartButtonEl.classList.add('colab-df-quickchart-complete');\n",
              "        }\n",
              "        (() => {\n",
              "          let quickchartButtonEl =\n",
              "            document.querySelector('#df-4abaaaef-6a4d-460b-8ff2-55f15b63309a button');\n",
              "          quickchartButtonEl.style.display =\n",
              "            google.colab.kernel.accessAllowed ? 'block' : 'none';\n",
              "        })();\n",
              "      </script>\n",
              "    </div>\n",
              "    </div>\n",
              "  </div>\n"
            ],
            "application/vnd.google.colaboratory.intrinsic+json": {
              "type": "dataframe",
              "variable_name": "df",
              "summary": "{\n  \"name\": \"df\",\n  \"rows\": 222,\n  \"fields\": [\n    {\n      \"column\": \"Country/Territory\",\n      \"properties\": {\n        \"dtype\": \"string\",\n        \"num_unique_values\": 222,\n        \"samples\": [\n          \"Channel Islands\",\n          \"Cook Islands\",\n          \"Mexico\"\n        ],\n        \"semantic_type\": \"\",\n        \"description\": \"\"\n      }\n    },\n    {\n      \"column\": \"IMF (2025)[1][6]\",\n      \"properties\": {\n        \"dtype\": \"string\",\n        \"num_unique_values\": 190,\n        \"samples\": [\n          \"1548\",\n          \"1129\",\n          \"30094\"\n        ],\n        \"semantic_type\": \"\",\n        \"description\": \"\"\n      }\n    },\n    {\n      \"column\": \"World Bank (2022\\u201324)[7]\",\n      \"properties\": {\n        \"dtype\": \"string\",\n        \"num_unique_values\": 211,\n        \"samples\": [\n          \"526411\",\n          \"3649\",\n          \"14953\"\n        ],\n        \"semantic_type\": \"\",\n        \"description\": \"\"\n      }\n    },\n    {\n      \"column\": \"United Nations (2023)[8]\",\n      \"properties\": {\n        \"dtype\": \"string\",\n        \"num_unique_values\": 214,\n        \"samples\": [\n          \"2142471\",\n          \"1317\",\n          \"118845\"\n        ],\n        \"semantic_type\": \"\",\n        \"description\": \"\"\n      }\n    }\n  ]\n}"
            }
          },
          "metadata": {},
          "execution_count": 23
        }
      ]
    },
    {
      "cell_type": "code",
      "source": [
        "#2. Визначити розмір датасета\n",
        "df.info()"
      ],
      "metadata": {
        "colab": {
          "base_uri": "https://localhost:8080/"
        },
        "id": "cYcOpum8wAIB",
        "outputId": "5e9a2e44-b26d-46fe-e24a-f96f7b143f6d"
      },
      "execution_count": 27,
      "outputs": [
        {
          "output_type": "stream",
          "name": "stdout",
          "text": [
            "<class 'pandas.core.frame.DataFrame'>\n",
            "RangeIndex: 222 entries, 0 to 221\n",
            "Data columns (total 4 columns):\n",
            " #   Column                    Non-Null Count  Dtype \n",
            "---  ------                    --------------  ----- \n",
            " 0   Country/Territory         222 non-null    object\n",
            " 1   IMF (2025)[1][6]          222 non-null    object\n",
            " 2   World Bank (2022–24)[7]   222 non-null    object\n",
            " 3   United Nations (2023)[8]  222 non-null    object\n",
            "dtypes: object(4)\n",
            "memory usage: 7.1+ KB\n"
          ]
        }
      ]
    },
    {
      "cell_type": "code",
      "source": [
        "#3. Визначити оптимальну кількість стовпців\n",
        "df.columns"
      ],
      "metadata": {
        "colab": {
          "base_uri": "https://localhost:8080/"
        },
        "id": "w5MGr-ApFkRz",
        "outputId": "c3cbe49f-d995-47c0-c2c9-36393b08bbac"
      },
      "execution_count": 34,
      "outputs": [
        {
          "output_type": "execute_result",
          "data": {
            "text/plain": [
              "Index(['Country/Territory', 'IMF (2025)[1][6]', 'World Bank (2022–24)[7]',\n",
              "       'United Nations (2023)[8]'],\n",
              "      dtype='object')"
            ]
          },
          "metadata": {},
          "execution_count": 34
        }
      ]
    },
    {
      "cell_type": "code",
      "source": [
        "#4. Змінити назви стовпців на більш зручні, наприкла\n",
        "#Поточні назви стовпців\n",
        "df.columns = [\"Country\", \"MVF_2024\", \"WorldBank_2023\", \"OON_2022\"]\n"
      ],
      "metadata": {
        "id": "N0VRnmrunnMf"
      },
      "execution_count": 37,
      "outputs": []
    },
    {
      "cell_type": "code",
      "source": [
        "# 5. Типи даних\n",
        "print(\"Типи даних:\\n\", df.dtypes, \"\\n\")\n",
        "\n",
        "# 6. Замінюємо символ \"—\" на NaN\n",
        "df = df.replace(\"—\", np.nan)\n",
        "\n",
        "# 7. Приводимо числові колонки до float\n",
        "for col in [\"MVF_2024\", \"WorldBank_2023\", \"OON_2022\"]:\n",
        "    df[col] = df[col].astype(str).str.replace(\",\", \"\").astype(float)\n",
        "\n",
        "#8. Перевірка пропусків\n",
        "print(\"Кількість пропусків до заміни:\\n\", df.isna().sum(), \"\\n\")\n",
        "# Замінюємо пропуски середнім\n",
        "df = df.fillna(df.mean(numeric_only=True))\n",
        "\n",
        "print(\"Кількість пропусків після заміни:\\n\", df.isna().sum(), \"\\n\")\n",
        "# Видалення дублікатів\n",
        "df = df.drop_duplicates()\n",
        "print(\"Розмір після видалення дублікатів:\", df.shape, \"\\n\")"
      ],
      "metadata": {
        "colab": {
          "base_uri": "https://localhost:8080/"
        },
        "id": "vpaoCVoUGYX5",
        "outputId": "27a49d7b-a9ed-401d-a409-4cdb3fc59473"
      },
      "execution_count": 41,
      "outputs": [
        {
          "output_type": "stream",
          "name": "stdout",
          "text": [
            "Типи даних:\n",
            " Country            object\n",
            "MVF_2024          float64\n",
            "WorldBank_2023    float64\n",
            "OON_2022          float64\n",
            "dtype: object \n",
            "\n",
            "Кількість пропусків до заміни:\n",
            " Country            0\n",
            "MVF_2024          32\n",
            "WorldBank_2023    12\n",
            "OON_2022           9\n",
            "dtype: int64 \n",
            "\n",
            "Кількість пропусків після заміни:\n",
            " Country           0\n",
            "MVF_2024          0\n",
            "WorldBank_2023    0\n",
            "OON_2022          0\n",
            "dtype: int64 \n",
            "\n",
            "Розмір після видалення дублікатів: (222, 4) \n",
            "\n"
          ]
        }
      ]
    },
    {
      "cell_type": "code",
      "source": [
        "#9.Описова статистика\n",
        "print(\"Описова статистика:\\n\", df.describe(), \"\\n\")\n",
        "\n",
        "# 10. Відхилення між MVF_2024 та WorldBank_2023\n",
        "df[\"Diff_MVF_WB\"] = df[\"MVF_2024\"] - df[\"WorldBank_2023\"]\n",
        "max_diff = df.loc[df[\"Diff_MVF_WB\"].abs().idxmax()]\n",
        "print(\"Найбільше відхилення між MVF_2024 та WorldBank_2023:\\n\", max_diff, \"\\n\")\n",
        "\n",
        "#11. Кореляція\n",
        "print(\"Кореляція:\\n\", df[[\"MVF_2024\", \"WorldBank_2023\", \"OON_2022\"]].corr(), \"\\n\")\n",
        "\n",
        "#12.Середнє значення по роках\n",
        "print(\"Середні значення:\\n\", df[[\"MVF_2024\", \"WorldBank_2023\", \"OON_2022\"]].mean(), \"\\n\")\n",
        "\n",
        "#13.Стандартне відхилення для кожної країни\n",
        "df[\"Std_Dev\"] = df[[\"MVF_2024\", \"WorldBank_2023\", \"OON_2022\"]].std(axis=1)\n",
        "max_var = df.loc[df[\"Std_Dev\"].idxmax()]\n",
        "print(\"Країна з найбільшою варіативністю:\\n\", max_var, \"\\n\")\n"
      ],
      "metadata": {
        "colab": {
          "base_uri": "https://localhost:8080/"
        },
        "id": "ChNI0XTOH0HW",
        "outputId": "38c98700-9906-4a6d-ee8f-3afea0530bb0"
      },
      "execution_count": 42,
      "outputs": [
        {
          "output_type": "stream",
          "name": "stdout",
          "text": [
            "Описова статистика:\n",
            "            MVF_2024  WorldBank_2023      OON_2022\n",
            "count  2.220000e+02    2.220000e+02  2.220000e+02\n",
            "mean   1.194913e+06    1.053086e+06  9.672422e+05\n",
            "std    7.990341e+06    7.812285e+06  7.109223e+06\n",
            "min    6.500000e+01    6.200000e+01  6.800000e+01\n",
            "25%    1.752200e+04    9.698750e+03  8.888000e+03\n",
            "50%    8.912300e+04    4.432300e+04  4.088750e+04\n",
            "75%    6.845312e+05    3.660632e+05  2.987810e+05\n",
            "max    1.137957e+08    1.113264e+08  1.008348e+08 \n",
            "\n",
            "Найбільше відхилення між MVF_2024 та WorldBank_2023:\n",
            " Country                 World\n",
            "MVF_2024          113795678.0\n",
            "WorldBank_2023    111326370.0\n",
            "OON_2022          100834796.0\n",
            "Diff_MVF_WB         2469308.0\n",
            "Name: 0, dtype: object \n",
            "\n",
            "Кореляція:\n",
            "                 MVF_2024  WorldBank_2023  OON_2022\n",
            "MVF_2024        1.000000        0.998802  0.998855\n",
            "WorldBank_2023  0.998802        1.000000  0.999120\n",
            "OON_2022        0.998855        0.999120  1.000000 \n",
            "\n",
            "Середні значення:\n",
            " MVF_2024          1.194913e+06\n",
            "WorldBank_2023    1.053086e+06\n",
            "OON_2022          9.672422e+05\n",
            "dtype: float64 \n",
            "\n",
            "Країна з найбільшою варіативністю:\n",
            " Country                    World\n",
            "MVF_2024             113795678.0\n",
            "WorldBank_2023       111326370.0\n",
            "OON_2022             100834796.0\n",
            "Diff_MVF_WB            2469308.0\n",
            "Std_Dev           6881800.505854\n",
            "Name: 0, dtype: object \n",
            "\n"
          ]
        }
      ]
    },
    {
      "cell_type": "code",
      "source": [
        "#14.Країни з найвищим та найнижчим показником у кожному році\n",
        "for col in [\"MVF_2024\", \"WorldBank_2023\", \"OON_2022\"]:\n",
        "    max_country = df.loc[df[col].idxmax()]\n",
        "    min_country = df.loc[df[col].idxmin()]\n",
        "    print(f\"{col}: Найвищий показник -> {max_country['Country']} ({max_country[col]})\")\n",
        "    print(f\"{col}: Найнижчий показник -> {min_country['Country']} ({min_country[col]})\\n\")\n"
      ],
      "metadata": {
        "colab": {
          "base_uri": "https://localhost:8080/"
        },
        "id": "oZm2KdI9IPoh",
        "outputId": "d7906a25-e2e6-4b34-c715-8a5fa202149d"
      },
      "execution_count": 43,
      "outputs": [
        {
          "output_type": "stream",
          "name": "stdout",
          "text": [
            "MVF_2024: Найвищий показник -> World (113795678.0)\n",
            "MVF_2024: Найнижчий показник -> Tuvalu (65.0)\n",
            "\n",
            "WorldBank_2023: Найвищий показник -> World (111326370.0)\n",
            "WorldBank_2023: Найнижчий показник -> Tuvalu (62.0)\n",
            "\n",
            "OON_2022: Найвищий показник -> World (100834796.0)\n",
            "OON_2022: Найнижчий показник -> Tuvalu (68.0)\n",
            "\n"
          ]
        }
      ]
    },
    {
      "cell_type": "code",
      "source": [
        "#15.Гістограма для MVF_2024\n",
        "plt.hist(df[\"MVF_2024\"], bins=30, color=\"skyblue\", edgecolor=\"black\")\n",
        "plt.title(\"Розподіл MVF_2024\")\n",
        "plt.xlabel(\"ВВП (млн дол. США)\")\n",
        "plt.ylabel(\"Кількість країн\")\n",
        "plt.show()"
      ],
      "metadata": {
        "colab": {
          "base_uri": "https://localhost:8080/",
          "height": 472
        },
        "id": "Lm0wDOBIId5H",
        "outputId": "9f03f94f-3a02-4ad0-90a0-472ff20b2bf2"
      },
      "execution_count": 44,
      "outputs": [
        {
          "output_type": "display_data",
          "data": {
            "text/plain": [
              "<Figure size 640x480 with 1 Axes>"
            ],
            "image/png": "[encoded data removed]"
          },
          "metadata": {}
        }
      ]
    },
    {
      "cell_type": "code",
      "source": [
        "#16.Частки кожної країни\n",
        "for col in [\"MVF_2024\", \"WorldBank_2023\", \"OON_2022\"]:\n",
        "    df[f\"{col}_Share\"] = df[col] / df[col].sum() * 100\n",
        "\n",
        "print(\"Частки країн (%):\\n\", df[[\"Country\", \"MVF_2024_Share\", \"WorldBank_2023_Share\", \"OON_2022_Share\"]].head(), \"\\n\")\n",
        "\n",
        "# 20. Візуалізація змін по роках\n",
        "plt.figure(figsize=(12,6))\n",
        "for i in range(len(df)):\n",
        "    plt.plot([\"OON_2022\", \"WorldBank_2023\", \"MVF_2024\"],\n",
        "             [df.iloc[i][\"OON_2022\"], df.iloc[i][\"WorldBank_2023\"], df.iloc[i][\"MVF_2024\"]],\n",
        "             marker=\"o\", alpha=0.4)\n",
        "\n",
        "plt.title(\"Зміни показників ВВП за роками\")\n",
        "plt.xlabel(\"Роки\")\n",
        "plt.ylabel(\"ВВП (млн дол. США)\")\n",
        "plt.show()"
      ],
      "metadata": {
        "colab": {
          "base_uri": "https://localhost:8080/",
          "height": 712
        },
        "id": "YBTtrKqWIk1-",
        "outputId": "d4a867fb-e1d5-40bb-dd57-1418e539df4e"
      },
      "execution_count": 45,
      "outputs": [
        {
          "output_type": "stream",
          "name": "stdout",
          "text": [
            "Частки країн (%):\n",
            "          Country  MVF_2024_Share  WorldBank_2023_Share  OON_2022_Share\n",
            "0          World       42.897958             47.619116       46.959366\n",
            "1  United States       11.500413             12.483643       12.909695\n",
            "2     China[n 1]        7.249844              8.017537        8.287136\n",
            "3        Germany        1.788665              1.993254        2.107647\n",
            "4          India        1.578395              1.673625        1.665261 \n",
            "\n"
          ]
        },
        {
          "output_type": "display_data",
          "data": {
            "text/plain": [
              "<Figure size 1200x600 with 1 Axes>"
            ],
            "image/png": "[encoded data removed]"
          },
          "metadata": {}
        }
      ]
    },
    {
      "cell_type": "markdown",
      "source": [
        "Висновок:\n",
        "Дані про ВВП з різних джерел (МВФ, Світовий банк, ООН) добре узгоджуються між собою, кореляція між ними висока. Лідерами за ВВП залишаються США та Китай, а найменші показники мають малі країни та острівні держави. Розподіл ВВП є дуже нерівномірним: кілька економік формують основну частину світового продукту, більшість країн мають значно менші значення. Загалом простежується тенденція до зростання середніх показників у світі."
      ],
      "metadata": {
        "id": "6kpCWxoXKjV3"
      }
    },
    {
      "cell_type": "code",
      "source": [
        "#Завдання 2. Завантажити датасет Титанік з Kaggle (або використовуйте вже завантажений файл titanic.csv)\n",
        "\n",
        "\n"
      ],
      "metadata": {
        "id": "CNiTjIHaKmqr"
      },
      "execution_count": null,
      "outputs": []
    }
  ]
}